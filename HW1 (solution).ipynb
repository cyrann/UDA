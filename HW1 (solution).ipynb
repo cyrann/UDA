{
 "cells": [
  {
   "cell_type": "markdown",
   "metadata": {},
   "source": [
    "Name: Sherlock Holmes\n",
    "\n",
    "Andrew ID:"
   ]
  },
  {
   "cell_type": "markdown",
   "metadata": {},
   "source": [
    "### Instructions\n",
    "1. Fill in your name and Andrew ID.\n",
    "2. Fill in the code/text blocks to answer each question.\n",
    "3. Do *not* change any of the existing code provided.\n",
    "4. Run the entire notebook *before* submitting it on Canvas to make sure that the code actually runs without errors. (**Important**: Any question for which your code fails to run will receive 0 points.)\n",
    "5. Be careful about where you save data for use with this Jupyter notebook (more details on this later).\n",
    "6. Have fun!"
   ]
  },
  {
   "cell_type": "markdown",
   "metadata": {},
   "source": [
    "### [Problem 1] Python Basics [10 pts]\n",
    "This problem helps you get familiar with (or review) some basic Python operations. \n",
    "\n",
    "Consider the following two lists:"
   ]
  },
  {
   "cell_type": "code",
   "execution_count": 1,
   "metadata": {
    "collapsed": true
   },
   "outputs": [],
   "source": [
    "a = [13, 1, 55, 34, 2, 3, 89, 5, 8, 21]\n",
    "b = [17,55, 34, 2, 3, 8, 9, 1, 4, 5, 6, 7, 20, 21, 36]"
   ]
  },
  {
   "cell_type": "markdown",
   "metadata": {},
   "source": [
    "(a) [2 pts] Find the elements that are common between the lists and store it in a new list. Print the new list."
   ]
  },
  {
   "cell_type": "code",
   "execution_count": 2,
   "metadata": {
    "collapsed": false
   },
   "outputs": [
    {
     "name": "stdout",
     "output_type": "stream",
     "text": [
      "[1, 55, 34, 2, 3, 5, 8, 21]\n"
     ]
    }
   ],
   "source": [
    "c = [x for x in a if x in b]\n",
    "print(c)"
   ]
  },
  {
   "cell_type": "markdown",
   "metadata": {},
   "source": [
    "(b) [3 pts] Write **one line** of code that takes this list of common elements and makes another new list that has only the even numbers of this list in it (hint: use a list comprehension). Print the new list. (So your code here should be tow lines: the first line computes the list and stores it in a variable, and the second line prints the variable.)"
   ]
  },
  {
   "cell_type": "code",
   "execution_count": 3,
   "metadata": {
    "collapsed": false
   },
   "outputs": [
    {
     "name": "stdout",
     "output_type": "stream",
     "text": [
      "[34, 2, 8]\n"
     ]
    }
   ],
   "source": [
    "d = [x for x in c if x % 2 == 0]\n",
    "print(d)"
   ]
  },
  {
   "cell_type": "markdown",
   "metadata": {},
   "source": [
    "(c) [5 pts] Write a function that takes a list as input, finds the maximum value in the list, and returns the maximum value as the output. (Do NOT use the built-in `max()` function, or any other packages. Write it yourself.) Test the function with the list you generated in part (b) of this problem."
   ]
  },
  {
   "cell_type": "code",
   "execution_count": 4,
   "metadata": {
    "collapsed": false
   },
   "outputs": [
    {
     "name": "stdout",
     "output_type": "stream",
     "text": [
      "The input is not a list.\n",
      "None\n",
      "The given list is empty, and no maximum value can be found.\n",
      "None\n",
      "The given list contains non-numeric element(s).\n",
      "None\n",
      "34\n"
     ]
    }
   ],
   "source": [
    "import numbers\n",
    "\n",
    "def find_max(l):\n",
    "    if not isinstance(l, list):\n",
    "        print(\"The input is not a list.\")\n",
    "        return\n",
    "    elif not l:\n",
    "        print(\"The given list is empty, and no maximum value can be found.\")\n",
    "        return\n",
    "    elif not all(isinstance(x, numbers.Number) for x in l):\n",
    "        print(\"The given list contains non-numeric element(s).\")\n",
    "        return\n",
    "    else:\n",
    "        maximum = float('-inf')\n",
    "        for element in l:\n",
    "            if element > maximum:\n",
    "                maximum = element\n",
    "        return maximum\n",
    "\n",
    "print(find_max(10))\n",
    "print(find_max([]))\n",
    "print(find_max([0, 2, -5, '10', 3.5]))\n",
    "print(find_max(d))"
   ]
  },
  {
   "cell_type": "markdown",
   "metadata": {},
   "source": [
    "### [Problem 2] The Distribution of Words in a Human Language: Zipf's Law [45 pts]\n",
    "\n",
    "In this problem, you will be looking at a phenomenon of \"natural languages\" (i.e., human languages, such as English). As it turns out, when we look at the distribution of words in a different human languages, the distribution roughly follows what's called *Zipf's law* ([Wikipedia](https://en.wikipedia.org/wiki/Zipf%27s_law)).\n",
    "\n",
    "*Zipf's law* states that given a large sample of words used, any word's frequency is inversely proportional to its rank in the frequency table (the word with rank 1 is the most frequently occurring word, the word with rank 2 is the second most frequently occurring word, etc). In this problem, you are going to test Zipf's law on a real dataset and explore some of its properties.\n",
    "\n",
    "This problem assumes you have already installed the `spaCy` package (https://spacy.io). Instructions for installing this are part of the tutorial file \"`95-865 Anaconda and Jupyter setup tutorial.pdf`\". You can find how to access lemmatized tokens using `spaCy` by looking at the `spaCy` demo Jupyter notebook from lecture (we have included it in this homework assignment as the file \"`95-865 spaCy demo.ipynb`\").\n",
    "\n",
    "(a) [5 pts] Read the data files.\n",
    "\n",
    "The dataset is a collection of the 100 most popular books downloaded from Gutenburg Project (https://www.gutenberg.org/browse/scores/top). Each file contains the text of a book. Now read all the texts from disk. This will be the corpus in this problem.\n",
    "\n",
    "Note: Please DO NOT change the folder name or the path, and make sure you use a relative path (e.g. './HW1_Dataset/*filename*) when reading the files. When grading your homework, we will put your Jupyter notebook file and the dataset in the same folder, and run your code. **You will receive 0 points for this problem if your code fails to load the data.**\n",
    "\n",
    "Hint: To list all files that match a certain pattern, you can use the `glob` package. Here's an example usage:\n",
    "\n",
    "`\n",
    "import glob\n",
    "print(glob.glob('./HW1_Dataset/*.txt'))\n",
    "`\n",
    "\n",
    "Hint: When debugging your code, you may want to first make sure your code runs on a few of the books rather than all 100 (for example, you can start by only having 3 of the text files in `HW1_Dataset`). Once you're confident that your solution is correct on a few text files, then run on all of them! This is a standard approach to debugging code that is meant to handle large datasets."
   ]
  },
  {
   "cell_type": "code",
   "execution_count": 5,
   "metadata": {
    "collapsed": true
   },
   "outputs": [],
   "source": [
    "import glob\n",
    "corpus_text = ''\n",
    "for filename in glob.glob('./HW1_Dataset/*.txt'):\n",
    "    with open(filename) as f:\n",
    "        corpus_text += f.read()"
   ]
  },
  {
   "cell_type": "markdown",
   "metadata": {},
   "source": [
    "(b) [15 pts] Build the frequency table. Specifically, complete the following three tasks:\n",
    "\n",
    "  1. Process the text by separating and lemmatizing the words.\n",
    "  2. Then count the number of times each word appears in the corpus and build a frequency table. (In particular, use raw counts as the \"frequency\"--do not divide by the total number of words in the corpus.)\n",
    "  3. Sort the table and print the top 50 most frequent words, along with their frequencies and ranks.\n",
    "\n",
    "Note: When counting the words, only include words (tokens) that consist of alphabetic letters (a-z and A-Z). You can do this with what's called a *regular expression*. For example, to check whether the words \"will.i.am\" or \"Tesla\" are alphabetic, you would do the following:\n",
    "\n",
    "`\n",
    "import re  # regular expression package\n",
    "if re.match('[a-zA-Z]+$', 'will.i.am'):\n",
    "    print('will.i.am consists only of alphabetic letters!')\n",
    "if re.match('[a-zA-Z]+$', 'Tesla'):\n",
    "    print('tesla consists only of alphabetic letters!')\n",
    "`"
   ]
  },
  {
   "cell_type": "code",
   "execution_count": 6,
   "metadata": {
    "collapsed": true
   },
   "outputs": [],
   "source": [
    "# There are many ways to solve this problem. We present two solutions, one\n",
    "# using numpy's argsort, and another solution using Pandas. However, the\n",
    "# first part of both solutions is the same and is about computing the\n",
    "# histogram:\n",
    "\n",
    "import spacy\n",
    "import re\n",
    "from collections import Counter\n",
    "\n",
    "nlp = spacy.load('en')\n",
    "doc = nlp(corpus_text)\n",
    "\n",
    "histogram = Counter()\n",
    "for token in doc:\n",
    "    lemma = token.lemma_\n",
    "    if re.match('[a-zA-Z]+$', lemma):\n",
    "        histogram[lemma] += 1"
   ]
  },
  {
   "cell_type": "code",
   "execution_count": 7,
   "metadata": {
    "collapsed": false
   },
   "outputs": [
    {
     "name": "stdout",
     "output_type": "stream",
     "text": [
      "Rank  Lemma      Raw Count\n",
      "1     the        703040\n",
      "2     be         438284\n",
      "3     and        436049\n",
      "4     of         386402\n",
      "5     to         324526\n",
      "6     a          234146\n",
      "7     in         204369\n",
      "8     have       159582\n",
      "9     that       159142\n",
      "10    not        110600\n",
      "11    with       101248\n",
      "12    for        95439\n",
      "13    as         90860\n",
      "14    but        75888\n",
      "15    do         68888\n",
      "16    at         65031\n",
      "17    on         62908\n",
      "18    by         61992\n",
      "19    this       61343\n",
      "20    which      58932\n",
      "21    all        58822\n",
      "22    say        58566\n",
      "23    from       50107\n",
      "24    so         48117\n",
      "25    or         47838\n",
      "26    will       43115\n",
      "27    one        41275\n",
      "28    man        40159\n",
      "29    no         38567\n",
      "30    what       37922\n",
      "31    there      37287\n",
      "32    if         34981\n",
      "33    go         34025\n",
      "34    when       33646\n",
      "35    would      32745\n",
      "36    come       32497\n",
      "37    an         32470\n",
      "38    see        32059\n",
      "39    who        30950\n",
      "40    make       30450\n",
      "41    then       27360\n",
      "42    may        26984\n",
      "43    out        26898\n",
      "44    know       25607\n",
      "45    more       25528\n",
      "46    up         25383\n",
      "47    good       24814\n",
      "48    take       23975\n",
      "49    shall      23854\n",
      "50    other      23709\n"
     ]
    }
   ],
   "source": [
    "# Solution 1 for sorting and printing out the most frequent lemmas:\n",
    "# use numpy's argsort\n",
    "\n",
    "import numpy as np\n",
    "\n",
    "# convert histogram into two lists `lemmas_unsorted` and `counts_unsorted`\n",
    "# where the i-th lemma in `lemmas_unsorted` has raw counts given by\n",
    "# `counts_unsorted[i]`\n",
    "lemmas_unsorted = []\n",
    "counts_unsorted = []\n",
    "for lemma, count in histogram.items():\n",
    "    lemmas_unsorted.append(lemma)\n",
    "    counts_unsorted.append(count)\n",
    "counts_unsorted = np.array(counts_unsorted)  # to allow for fancy numpy indexing\n",
    "\n",
    "# compute the indices that would sort the list `counts_unsorted` in\n",
    "# decreasing order (which is why there's a \"::-1\")\n",
    "sort_indices = np.argsort(counts_unsorted)[::-1]\n",
    "sorted_counts = counts_unsorted[sort_indices]  # actually for later problem subparts\n",
    "\n",
    "print('Rank'.ljust(5), 'Lemma'.ljust(10), 'Raw Count')\n",
    "for rank, idx in enumerate(sort_indices[:50]):\n",
    "    print(str(rank + 1).ljust(5), lemmas_unsorted[idx].ljust(10), counts_unsorted[idx])"
   ]
  },
  {
   "cell_type": "code",
   "execution_count": 8,
   "metadata": {
    "collapsed": false
   },
   "outputs": [
    {
     "name": "stdout",
     "output_type": "stream",
     "text": [
      "    Rank   Word  Raw Count\n",
      "0      1    the     703040\n",
      "1      2     be     438284\n",
      "2      3    and     436049\n",
      "3      4     of     386402\n",
      "4      5     to     324526\n",
      "5      6      a     234146\n",
      "6      7     in     204369\n",
      "7      8   have     159582\n",
      "8      9   that     159142\n",
      "9     10    not     110600\n",
      "10    11   with     101248\n",
      "11    12    for      95439\n",
      "12    13     as      90860\n",
      "13    14    but      75888\n",
      "14    15     do      68888\n",
      "15    16     at      65031\n",
      "16    17     on      62908\n",
      "17    18     by      61992\n",
      "18    19   this      61343\n",
      "19    20  which      58932\n",
      "20    21    all      58822\n",
      "21    22    say      58566\n",
      "22    23   from      50107\n",
      "23    24     so      48117\n",
      "24    25     or      47838\n",
      "25    26   will      43115\n",
      "26    27    one      41275\n",
      "27    28    man      40159\n",
      "28    29     no      38567\n",
      "29    30   what      37922\n",
      "30    31  there      37287\n",
      "31    32     if      34981\n",
      "32    33     go      34025\n",
      "33    34   when      33646\n",
      "34    35  would      32745\n",
      "35    36   come      32497\n",
      "36    37     an      32470\n",
      "37    38    see      32059\n",
      "38    39    who      30950\n",
      "39    40   make      30450\n",
      "40    41   then      27360\n",
      "41    42    may      26984\n",
      "42    43    out      26898\n",
      "43    44   know      25607\n",
      "44    45   more      25528\n",
      "45    46     up      25383\n",
      "46    47   good      24814\n",
      "47    48   take      23975\n",
      "48    49  shall      23854\n",
      "49    50  other      23709\n"
     ]
    }
   ],
   "source": [
    "# Solution 2 for sorting and printing out the most frequent lemmas:\n",
    "# use Pandas\n",
    "\n",
    "import pandas as pd\n",
    "\n",
    "count = pd.Series(histogram)\n",
    "count = count.sort_values(ascending=False)\n",
    "\n",
    "freq_table = pd.DataFrame(count)\n",
    "freq_table.reset_index(inplace=True)\n",
    "freq_table.columns = ['Word', 'Raw Count']\n",
    "freq_table.index.rename('Rank', inplace=True)\n",
    "freq_table.reset_index(inplace=True)\n",
    "freq_table['Rank'] += 1\n",
    "print(freq_table.head(50))"
   ]
  },
  {
   "cell_type": "markdown",
   "metadata": {},
   "source": [
    "(c) [10 pts] Visualize the frequency table by plotting a **raw scatter plot** (put frequency as the y axis and rank as the x axis), and a **log-log plot** (use logarithmic scales on both the x and y axes). This should be for the full table and not just the top 50 words! For the x axis, you do not need to label what the words are; the numbers there should just correspond to the ranks of the words."
   ]
  },
  {
   "cell_type": "code",
   "execution_count": 9,
   "metadata": {
    "collapsed": false
   },
   "outputs": [
    {
     "data": {
      "text/plain": [
       "<matplotlib.axes._subplots.AxesSubplot at 0x7fce4d8c47f0>"
      ]
     },
     "execution_count": 9,
     "metadata": {},
     "output_type": "execute_result"
    },
    {
     "data": {
      "image/png": "[encoded data removed]",
      "text/plain": [
       "<matplotlib.figure.Figure at 0x7fcd861a1978>"
      ]
     },
     "metadata": {},
     "output_type": "display_data"
    },
    {
     "data": {
      "image/png": "[encoded data removed]",
      "text/plain": [
       "<matplotlib.figure.Figure at 0x7fce4d8c41d0>"
      ]
     },
     "metadata": {},
     "output_type": "display_data"
    }
   ],
   "source": [
    "# Raw scatter plot\n",
    "%matplotlib inline\n",
    "import matplotlib.pyplot as plt\n",
    "plt.style.use('ggplot')  # makes prettier plots\n",
    "\n",
    "# Using Solution 1 from part (b):\n",
    "plt.scatter(np.array(range(len(sort_indices))) + 1, sorted_counts)\n",
    "plt.xlabel('Rank')\n",
    "plt.ylabel('Raw Count')\n",
    "\n",
    "# Using Solution 2 from part (b) instead:\n",
    "freq_table.plot.scatter('Rank', 'Raw Count')"
   ]
  },
  {
   "cell_type": "code",
   "execution_count": 10,
   "metadata": {
    "collapsed": false,
    "scrolled": false
   },
   "outputs": [
    {
     "data": {
      "image/png": "[encoded data removed]",
      "text/plain": [
       "<matplotlib.figure.Figure at 0x7fce4d37ecc0>"
      ]
     },
     "metadata": {},
     "output_type": "display_data"
    },
    {
     "data": {
      "image/png": "[encoded data removed]",
      "text/plain": [
       "<matplotlib.figure.Figure at 0x7fce4d3adcc0>"
      ]
     },
     "metadata": {},
     "output_type": "display_data"
    }
   ],
   "source": [
    "# Log-log plot\n",
    "\n",
    "# The only change in the code from the previous part is specifying the x and y axes scaling.\n",
    "\n",
    "# Using Solution 1 from part (b):\n",
    "plt.scatter(np.array(range(len(sort_indices))) + 1, sorted_counts)\n",
    "plt.xlabel('Rank')\n",
    "plt.ylabel('Raw Count')\n",
    "axis = plt.gca()  # gets the current axis\n",
    "axis.set_xscale('log')\n",
    "axis.set_yscale('log')\n",
    "\n",
    "# Using Solution 2 from part (b) instead:\n",
    "freq_table.plot.scatter('Rank', 'Raw Count')\n",
    "axis = plt.gca()  # gets the current axis\n",
    "axis.set_xscale('log')\n",
    "axis.set_yscale('log')"
   ]
  },
  {
   "cell_type": "markdown",
   "metadata": {},
   "source": [
    "(d) [15 pts] Explore the frequency table: Zipf's law states that term frequency is governed by a power low, i.e. the relationship between term frequency and rank can be approximated by $f(r) = cr^{-1}$, where $f(r)$ is the frequency of the term at rank $r$, $r$ is the rank of a term, and $c$ is a constant and is approximately 0.1*(corpus size) for English. \n",
    "\n",
    "Answer following questions:\n",
    "\n",
    "- What do you observe in the log-log plot above? Is this consist with the power law?"
   ]
  },
  {
   "cell_type": "markdown",
   "metadata": {},
   "source": [
    "Your text answer (for this question, your answer is *not* code):\n",
    "\n",
    "**Answer:** The log-log plot of frequency and rank are fitted in a line with negative slope. It is consist with the power law, as the power law suggests $log(f(r)) = -clog(r)$, which is a line with slope of $-c$."
   ]
  },
  {
   "cell_type": "markdown",
   "metadata": {},
   "source": [
    "- Think of the corpus as a (large) unigram bag of words. Following the analogy from lecture, imagine drawing a single word from this big bag (note that we are assuming that we've lemmatized the words and also filtered out non-alphanumeric words). What is the probability of drawing one of the 4 most frequent words? What is the probability of drawing one of the 50 most frequent words? Answer these two questions using code rather than just entering in the final answers as numbers. (The answer here should be exact--do not use a randomized procedure to approximate the probability.)"
   ]
  },
  {
   "cell_type": "code",
   "execution_count": 11,
   "metadata": {
    "collapsed": false
   },
   "outputs": [
    {
     "name": "stdout",
     "output_type": "stream",
     "text": [
      "Probability of drawing one of the 4 most frequent words: \n",
      "0.181723868741\n",
      "Probability of drawing one of the 50 most frequent words: \n",
      "0.457913241526\n",
      "\n",
      "Probability of drawing one of the 4 most frequent words: \n",
      "0.18172386874109783\n",
      "Probability of drawing one of the 50 most frequent words: \n",
      "0.4579132415257374\n"
     ]
    }
   ],
   "source": [
    "# Using Solution 1 from part (b):\n",
    "print('Probability of drawing one of the 4 most frequent words: ')\n",
    "print(sorted_counts[:4].sum() / sorted_counts.sum())\n",
    "print('Probability of drawing one of the 50 most frequent words: ')\n",
    "print(sorted_counts[:50].sum() / sorted_counts.sum())\n",
    "\n",
    "print()  # just to add some spacing between the two solutions we're providing\n",
    "\n",
    "# Using Solution 2 from part (b):\n",
    "print('Probability of drawing one of the 4 most frequent words: ')\n",
    "print(freq_table['Raw Count'][:4].sum() / freq_table['Raw Count'].sum())\n",
    "print('Probability of drawing one of the 50 most frequent words: ')\n",
    "print(freq_table['Raw Count'][:50].sum() / freq_table['Raw Count'].sum())"
   ]
  },
  {
   "cell_type": "markdown",
   "metadata": {},
   "source": [
    "- What proportion of the words occur only once? What proportion of the words occur fewer than 10 times?"
   ]
  },
  {
   "cell_type": "code",
   "execution_count": 12,
   "metadata": {
    "collapsed": false,
    "scrolled": true
   },
   "outputs": [
    {
     "name": "stdout",
     "output_type": "stream",
     "text": [
      "Occur only once: \n",
      "0.431552925477\n",
      "Occur fewer than 10 times: \n",
      "0.759551962897\n",
      "\n",
      "Occur only once: \n",
      "0.431552925477\n",
      "Occur fewer than 10 times: \n",
      "0.759551962897\n"
     ]
    }
   ],
   "source": [
    "# Using Solution 1 from part (b):\n",
    "print(\"Occur only once: \")\n",
    "print((sorted_counts == 1).sum() / len(sorted_counts))\n",
    "print(\"Occur fewer than 10 times: \")\n",
    "print((sorted_counts < 10).sum() / len(sorted_counts))\n",
    "\n",
    "print()  # just to add some spacing between the two solutions we're providing\n",
    "\n",
    "# Using Solution 2 from part (b):\n",
    "print(\"Occur only once: \")\n",
    "print((freq_table['Raw Count'] == 1).sum() / len(freq_table))\n",
    "print(\"Occur fewer than 10 times: \")\n",
    "print((freq_table['Raw Count'] < 10).sum() / len(freq_table))"
   ]
  },
  {
   "cell_type": "markdown",
   "metadata": {},
   "source": [
    "### [Problem 3] Entity Recognition and Pointwise Mutual Information (PMI) [40 pts]\n",
    "By using the entity recognition system in `spaCy`, let's identify named entities from newspaper articles. You'll be using Reuters corpus which contains more than ten thousand newspaper articles. To run the code below, you need to download the Reuters dataset. To do so, in a terminal/command line (recall that you can open a terminal from Jupyter's webpage that shows all the files, which by default is http://localhost:8888/tree), start up Python and enter:\n",
    "\n",
    "`\n",
    "import nltk\n",
    "nltk.download('reuters')\n",
    "`\n",
    "\n",
    "Then proceed to the problem subparts below.\n",
    "\n",
    "**Important:** For counting occurrences and co-occurrences, count the number of articles that have a particular entity."
   ]
  },
  {
   "cell_type": "markdown",
   "metadata": {},
   "source": [
    "(a) [12 pts] Draw a bar chart in which one of the axes shows entity labels and the other shows the frequency of the corresponding label. Use the variables `reuters_nlp` and `label_counter` provided in the code below."
   ]
  },
  {
   "cell_type": "code",
   "execution_count": 1,
   "metadata": {
    "collapsed": true,
    "scrolled": false
   },
   "outputs": [],
   "source": [
    "from collections import Counter\n",
    "from nltk.corpus import reuters\n",
    "import re\n",
    "import spacy\n",
    "nlp = spacy.load('en')\n",
    "reuters_fileids = reuters.fileids()  # hint: when first debugging, consider looking at just the first few\n",
    "reuters_nlp = [nlp(re.sub('\\s+',' ', reuters.raw(i)).strip()) for i in reuters_fileids]\n",
    "label_counter = Counter()"
   ]
  },
  {
   "cell_type": "code",
   "execution_count": 3,
   "metadata": {
    "collapsed": false
   },
   "outputs": [
    {
     "data": {
      "text/plain": [
       "([<matplotlib.axis.YTick at 0x22f55102048>,\n",
       "  <matplotlib.axis.YTick at 0x22f550f0668>,\n",
       "  <matplotlib.axis.YTick at 0x22f550fb550>,\n",
       "  <matplotlib.axis.YTick at 0x22f551a2b38>,\n",
       "  <matplotlib.axis.YTick at 0x22f551ae550>,\n",
       "  <matplotlib.axis.YTick at 0x22f551aef28>,\n",
       "  <matplotlib.axis.YTick at 0x22f551b4940>,\n",
       "  <matplotlib.axis.YTick at 0x22f551b9358>,\n",
       "  <matplotlib.axis.YTick at 0x22f551b9d30>,\n",
       "  <matplotlib.axis.YTick at 0x22f551bf748>,\n",
       "  <matplotlib.axis.YTick at 0x22f551c6160>,\n",
       "  <matplotlib.axis.YTick at 0x22f551c6b38>,\n",
       "  <matplotlib.axis.YTick at 0x22f5510a128>,\n",
       "  <matplotlib.axis.YTick at 0x22f550dc7f0>,\n",
       "  <matplotlib.axis.YTick at 0x22f551cc588>,\n",
       "  <matplotlib.axis.YTick at 0x22f551cce48>,\n",
       "  <matplotlib.axis.YTick at 0x22f551d4860>,\n",
       "  <matplotlib.axis.YTick at 0x22f551d9278>],\n",
       " <a list of 18 Text yticklabel objects>)"
      ]
     },
     "execution_count": 3,
     "metadata": {},
     "output_type": "execute_result"
    },
    {
     "data": {
      "image/png": "[encoded data removed]",
      "text/plain": [
       "<matplotlib.figure.Figure at 0x22f53082278>"
      ]
     },
     "metadata": {},
     "output_type": "display_data"
    }
   ],
   "source": [
    "%matplotlib inline\n",
    "import matplotlib.pyplot as plt\n",
    "for article in reuters_nlp:\n",
    "    label_list = [ent.label_ for ent in article.ents]\n",
    "    label_counter.update(label_list)\n",
    "labels = [item[0] for item in label_counter.items()]\n",
    "label_occurences = [item[1] for item in label_counter.items()]\n",
    "y_pos = range(len(labels))\n",
    "plt.barh(y_pos, label_occurences, align='center', alpha=0.5)\n",
    "plt.yticks(y_pos, labels)"
   ]
  },
  {
   "cell_type": "markdown",
   "metadata": {},
   "source": [
    "(b) [12 pts] Now list the top 10 most frequently occurring entities (entity text and the number of occurence) with labels `ORG` (organization) and `GPE` (countries, cities, states) respectively."
   ]
  },
  {
   "cell_type": "code",
   "execution_count": 15,
   "metadata": {
    "collapsed": false
   },
   "outputs": [
    {
     "name": "stdout",
     "output_type": "stream",
     "text": [
      "Most frequently occurring organizations:\n",
      "  qtr: 915\n",
      "  reuters: 439\n",
      "  usda: 257\n",
      "  ec: 243\n",
      "  the securities and exchange commission: 228\n",
      "  the u.s. agriculture department: 168\n",
      "  treasury: 163\n",
      "  the bank of england: 155\n",
      "  fed: 137\n",
      "  congress: 133\n",
      "\n",
      "Most frequently occurring locations:\n",
      "  u.s.: 1752\n",
      "  japan: 555\n",
      "  the united states: 384\n",
      "  u.k.: 316\n",
      "  canada: 253\n",
      "  washington: 230\n",
      "  west germany: 227\n",
      "  new york: 214\n",
      "  brazil: 190\n",
      "  london: 189\n"
     ]
    }
   ],
   "source": [
    "# In this solution, in counting the frequency, we are counting\n",
    "# how many articles have an entity occur (and so per article,\n",
    "# we add 1 if the article has the entity and 0 otherwise). To\n",
    "# change this to counting the total number of times the entity\n",
    "# has occurred, you would simply remove the call to the function\n",
    "# `set()` below.\n",
    "\n",
    "common_org = Counter()\n",
    "common_gpe = Counter()\n",
    "\n",
    "for article in reuters_nlp:\n",
    "    org_list = set([ent.lemma_ for ent in article.ents if ent.label_ == u\"ORG\"])\n",
    "    gpe_list = set([ent.lemma_ for ent in article.ents if ent.label_ == u\"GPE\"])\n",
    "    \n",
    "    # for counting total number of times entities occur and not just whether\n",
    "    # they occured in the article or not:\n",
    "    # org_list = [ent.lemma_ for ent in article.ents if ent.label_ == u\"ORG\"]\n",
    "    # gpe_list = [ent.lemma_ for ent in article.ents if ent.label_ == u\"GPE\"]\n",
    "    common_org.update(org_list)\n",
    "    common_gpe.update(gpe_list)\n",
    "\n",
    "print('Most frequently occurring organizations:')\n",
    "print(\"\\n\".join([\"  %s: %d\" % (entity, count) for entity, count in common_org.most_common(10)]))\n",
    "\n",
    "print()\n",
    "\n",
    "print('Most frequently occurring locations:')\n",
    "print(\"\\n\".join([\"  %s: %d\" % (entity, count) for entity, count in common_gpe.most_common(10)]))"
   ]
  },
  {
   "cell_type": "markdown",
   "metadata": {},
   "source": [
    "(c) [16 pts] Give the top 50 `GPE` (countries, cities, states) entities that have the highest Pointwise Mutual Information (PMI) values with regard to the `ORG` (organization) entity **'opec'** (your list of this top 50 should be ranked in decreasing PMI value). Did you find any unexpected results? If so, why do you think it happened? If you found some of the results to be unsurprisingly, how come? (Hint: To compute this ranking, you do not have to compute the full PMI equation.)"
   ]
  },
  {
   "cell_type": "markdown",
   "metadata": {},
   "source": [
    "**Solution note:** For a specific `GPE` entity $x$, we have\n",
    "\n",
    "$$\\text{PMI}(\\text{opec}, x)\n",
    "= \\log\\frac{P(\\text{opec}, x)}{P(\\text{opec})P(x)}\n",
    "= \\log\\frac{\\frac{\\text{# articles opec and }x\\text{ are both in}}{\\text{total # articles}}}{P(\\text{opec})\\frac{\\text{# articles }x\\text{ is in}}{\\text{total # articles}}}\n",
    "= \\log\\frac{\\text{# articles opec and }x\\text{ are both in}}{P(\\text{opec})(\\text{# articles }x\\text{ is in})}\\,.$$\n",
    "\n",
    "For different values of $x$, $P(\\text{opec})$ is a constant! This means that in terms of ordering the different $x$'s by PMI, we do not need to compute $P(\\text{opec})$. Moreover, whether we take the logarithm or not also doesn't affect the ordering of the $x$'s according to PMI. Thus, for each $x$, it suffices to compute the fraction\n",
    "\n",
    "$$\\frac{\\text{# articles opec and }x\\text{ are both in}}{\\text{# articles }x\\text{ is in}}\\,.$$\n",
    "\n",
    "By sorting the $x$'s according to this fraction, we get the same ordering as if we sorted the $x$'s according to PMI."
   ]
  },
  {
   "cell_type": "code",
   "execution_count": 16,
   "metadata": {
    "collapsed": false,
    "scrolled": false
   },
   "outputs": [
    {
     "name": "stdout",
     "output_type": "stream",
     "text": [
      "Rank  Location                       Co-occurrence Count  Occurence Count     \n",
      "1     japan indonesia 's             1                    1                   \n",
      "2     aramco                         1                    1                   \n",
      "3     petromin                       1                    1                   \n",
      "4     statfjord                      1                    1                   \n",
      "5     september norway 's            1                    1                   \n",
      "6     ula                            1                    1                   \n",
      "7     ekofisk                        1                    1                   \n",
      "8     sungari                        1                    1                   \n",
      "9     miraflores                     1                    1                   \n",
      "10    bethesda                       1                    1                   \n",
      "11    saudi arabian                  2                    2                   \n",
      "12    wellemeyer                     1                    1                   \n",
      "13    britian                        1                    1                   \n",
      "14    spa                            1                    1                   \n",
      "15    yanbu                          2                    2                   \n",
      "16    earthquake ecuador             1                    1                   \n",
      "17    energy                         2                    2                   \n",
      "18    jubail                         1                    1                   \n",
      "19    ras tanurah                    1                    1                   \n",
      "20    ju'aymah                       1                    1                   \n",
      "21    tripoli                        2                    2                   \n",
      "22    visnews                        5                    5                   \n",
      "23    bahrain deputy                 1                    1                   \n",
      "24    doha                           1                    1                   \n",
      "25    guayaquil                      3                    3                   \n",
      "26    13-year low of                 2                    2                   \n",
      "27    tapis                          1                    1                   \n",
      "28    cantarell                      1                    1                   \n",
      "29    kittiwake                      1                    1                   \n",
      "30    stanlow                        1                    1                   \n",
      "31    vienna                         17                   20                  \n",
      "32    riyadh                         4                    5                   \n",
      "33    mercalli                       4                    5                   \n",
      "34    balao                          9                    13                  \n",
      "35    saudi arabia 's                11                   16                  \n",
      "36    petronas                       2                    3                   \n",
      "37    gabon                          2                    3                   \n",
      "38    quito                          4                    6                   \n",
      "39    the united arab emirates       7                    11                  \n",
      "40    qatar                          16                   27                  \n",
      "41    dubai                          4                    7                   \n",
      "42    abu dhabi                      2                    4                   \n",
      "43    minas                          1                    2                   \n",
      "44    ras tannurah                   1                    2                   \n",
      "45    opec                           1                    2                   \n",
      "46    gullfaks                       1                    2                   \n",
      "47    oseberg                        1                    2                   \n",
      "48    gulf arab                      1                    2                   \n",
      "49    amazon                         1                    2                   \n",
      "50    caracas                        5                    10                  \n"
     ]
    }
   ],
   "source": [
    "co_occurrence_counts = Counter()\n",
    "gpe_counts = Counter()\n",
    "\n",
    "for article in reuters_nlp:\n",
    "    article_gpe = set([ent.lemma_ for ent in article.ents if ent.label_ == u'GPE'])\n",
    "    article_org = set([ent.lemma_ for ent in article.ents if ent.label_ == u'ORG'])\n",
    "    gpe_counts.update(article_gpe)\n",
    "    if u'opec' in article_org:\n",
    "        co_occurrence_counts.update(article_gpe)\n",
    "\n",
    "# we don't need to use the log function as it doesn't affect the ordering\n",
    "# of the items by PMI; moreover, there are some denominator terms that are\n",
    "# the same that do not affect the ordering\n",
    "part_of_pmi_equation = dict()\n",
    "for gpe, co_occurrence_count in co_occurrence_counts.items():\n",
    "    part_of_pmi_equation[gpe] = co_occurrence_count / gpe_counts[gpe]\n",
    "\n",
    "print('Rank'.ljust(5), 'Location'.ljust(30), 'Co-occurrence Count'.ljust(20), 'Occurence Count'.ljust(20))\n",
    "for i, w in enumerate(sorted(part_of_pmi_equation,\n",
    "                             key=part_of_pmi_equation.get,\n",
    "                             reverse=True)[:50]):\n",
    "    print(str(i+1).ljust(5), w.ljust(30), str(co_occurrence_counts[w]).ljust(20), str(gpe_counts[w]).ljust(20))"
   ]
  },
  {
   "cell_type": "markdown",
   "metadata": {},
   "source": [
    "Your text answer (for this question, your answer is *not* code):\n",
    "\n",
    "**Answer:** Entities such as 'dubai' and 'qatar' were expected to have highest ranks since they are directly related to OPEC. However, in the result, somewhat meaningless entities have highest PMI values. This might be due to several reasons. First, the entity recognition labeling of spaCy is imperfect. Second, the number of documents (here, newspaper articles) might have been too small. Third, result reflects the nature of PMI, which gives high scores to rare words."
   ]
  },
  {
   "cell_type": "markdown",
   "metadata": {},
   "source": [
    "### [Problem 4] Questionnaire [5 pts]\n",
    "Please provide feedback! To receive the 5 points, be sure to enter your Andrew ID correctly in this Google form:\n",
    "https://goo.gl/forms/Q0cz2NhZbuIuS8iR2"
   ]
  }
 ],
 "metadata": {
  "anaconda-cloud": {},
  "kernelspec": {
   "display_name": "Python 3",
   "language": "python",
   "name": "python3"
  },
  "language_info": {
   "codemirror_mode": {
    "name": "ipython",
    "version": 3
   },
   "file_extension": ".py",
   "mimetype": "text/x-python",
   "name": "python",
   "nbconvert_exporter": "python",
   "pygments_lexer": "ipython3",
   "version": "3.6.0"
  }
 },
 "nbformat": 4,
 "nbformat_minor": 2
}
